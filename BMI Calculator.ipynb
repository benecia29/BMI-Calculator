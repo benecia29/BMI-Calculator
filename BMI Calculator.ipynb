{
 "cells": [
  {
   "cell_type": "markdown",
   "id": "ab91c16f-38f8-4047-8484-3ec3f242762d",
   "metadata": {},
   "source": [
    "# BMI (Body Mass Index) Calculator"
   ]
  },
  {
   "cell_type": "raw",
   "id": "3a58e37d-ea80-4a01-b2e6-1e0ff3223f83",
   "metadata": {},
   "source": [
    "For a reference BMI calculator, visit https://mercer-health.com/services/weight-management-center/bmi-calculator#:~:text=Body%20Mass%20Index%2C%20or%20BMI,inches%20x%20height%20in%20inches"
   ]
  },
  {
   "cell_type": "code",
   "execution_count": 9,
   "id": "c4e5b10d-ec8c-4735-8231-718c32712351",
   "metadata": {},
   "outputs": [
    {
     "name": "stdout",
     "output_type": "stream",
     "text": [
      "Enter your name:  Benecia\n",
      "Enter your age:  21\n",
      "Enter your weight in pounds:  170\n",
      "Enter your height in inches:  69\n"
     ]
    },
    {
     "name": "stdout",
     "output_type": "stream",
     "text": [
      "25.101869355177485\n",
      "Benecia, you are overweight for a 21 year old.\n"
     ]
    }
   ],
   "source": [
    "name = input(\"Enter your name: \")\n",
    "\n",
    "age = input(\"Enter your age: \")\n",
    "\n",
    "weight = int(input(\"Enter your weight in pounds: \"))\n",
    "\n",
    "height = int(input(\"Enter your height in inches: \"))\n",
    "\n",
    "BMI = (weight * 703) / (height * height)\n",
    "\n",
    "print(BMI)\n",
    "\n",
    "if BMI>0:\n",
    "    if(BMI<18.5):\n",
    "        print(name +\", you are underweight for a \" + age + \" year old.\")\n",
    "    elif (BMI<=24.9):\n",
    "        print(name +\", you are normal weight for a \" + age + \" year old.\")\n",
    "    elif (BMI<29.9):\n",
    "        print(name +\", you are overweight for a \" + age + \" year old.\")\n",
    "    elif (BMI<34.9):\n",
    "        print(name +\", you are obese for a \" + age + \" year old.\")\n",
    "    elif (BMI<39.9):\n",
    "        print(name +\", you are severely obese for a \" + age + \" year old.\")\n",
    "    else:\n",
    "        print(name +\", you are morbidly obese for a \" + age + \" year old.\")\n",
    "else:\n",
    "    print(\"Enter valid input\")"
   ]
  }
 ],
 "metadata": {
  "kernelspec": {
   "display_name": "Python 3 (ipykernel)",
   "language": "python",
   "name": "python3"
  },
  "language_info": {
   "codemirror_mode": {
    "name": "ipython",
    "version": 3
   },
   "file_extension": ".py",
   "mimetype": "text/x-python",
   "name": "python",
   "nbconvert_exporter": "python",
   "pygments_lexer": "ipython3",
   "version": "3.11.7"
  }
 },
 "nbformat": 4,
 "nbformat_minor": 5
}
